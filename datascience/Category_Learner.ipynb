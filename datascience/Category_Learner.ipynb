{
 "cells": [
  {
   "cell_type": "code",
   "execution_count": 10,
   "metadata": {
    "collapsed": true
   },
   "outputs": [],
   "source": [
    "import pandas as pd\n",
    "import numpy as np"
   ]
  },
  {
   "cell_type": "code",
   "execution_count": 11,
   "metadata": {
    "collapsed": true
   },
   "outputs": [],
   "source": [
    "# read file into pandas using a relative path\n",
    "path = 'data/noticias.csv'\n",
    "news = pd.read_csv(path, delimiter=' ', quotechar='|', names=['index', 'message', 'risk', 'category'])"
   ]
  },
  {
   "cell_type": "code",
   "execution_count": 12,
   "metadata": {
    "collapsed": false
   },
   "outputs": [
    {
     "data": {
      "text/html": [
       "<div>\n",
       "<table border=\"1\" class=\"dataframe\">\n",
       "  <thead>\n",
       "    <tr style=\"text-align: right;\">\n",
       "      <th></th>\n",
       "      <th>index</th>\n",
       "      <th>message</th>\n",
       "      <th>risk</th>\n",
       "      <th>category</th>\n",
       "    </tr>\n",
       "  </thead>\n",
       "  <tbody>\n",
       "    <tr>\n",
       "      <th>0</th>\n",
       "      <td>0</td>\n",
       "      <td>Mas quem dirá se será pacto democrático ou lut...</td>\n",
       "      <td>Medio</td>\n",
       "      <td>Manifestacao</td>\n",
       "    </tr>\n",
       "    <tr>\n",
       "      <th>1</th>\n",
       "      <td>1</td>\n",
       "      <td>Assinado pela presidente nacional do partido, ...</td>\n",
       "      <td>Medio</td>\n",
       "      <td>Politica</td>\n",
       "    </tr>\n",
       "    <tr>\n",
       "      <th>2</th>\n",
       "      <td>2</td>\n",
       "      <td>PolíticaO deputado federal Vicente Cândido (PT...</td>\n",
       "      <td>Alto</td>\n",
       "      <td>Corrupcao</td>\n",
       "    </tr>\n",
       "    <tr>\n",
       "      <th>3</th>\n",
       "      <td>3</td>\n",
       "      <td>Trata-se do célebre caso do apartamento tríple...</td>\n",
       "      <td>Medio</td>\n",
       "      <td>Processo-Juridico</td>\n",
       "    </tr>\n",
       "    <tr>\n",
       "      <th>4</th>\n",
       "      <td>4</td>\n",
       "      <td>Pesquisa divulgada na semana passada pelo site...</td>\n",
       "      <td>Baixo</td>\n",
       "      <td>Eleicoes</td>\n",
       "    </tr>\n",
       "    <tr>\n",
       "      <th>5</th>\n",
       "      <td>5</td>\n",
       "      <td>Uma hipotética condenação de Lula teria como ú...</td>\n",
       "      <td>Medio</td>\n",
       "      <td>Politica</td>\n",
       "    </tr>\n",
       "    <tr>\n",
       "      <th>6</th>\n",
       "      <td>6</td>\n",
       "      <td>O que nós queremos é que não inviabilizem o no...</td>\n",
       "      <td>Medio</td>\n",
       "      <td>Manifestacao</td>\n",
       "    </tr>\n",
       "    <tr>\n",
       "      <th>7</th>\n",
       "      <td>7</td>\n",
       "      <td>\"Eu estou quase falando: 'Moro, meu amigo Moro...</td>\n",
       "      <td>Alto</td>\n",
       "      <td>Crime</td>\n",
       "    </tr>\n",
       "    <tr>\n",
       "      <th>8</th>\n",
       "      <td>8</td>\n",
       "      <td>Repetiu que, \"se for necessário, será candidat...</td>\n",
       "      <td>Alto</td>\n",
       "      <td>Processo-Juridico</td>\n",
       "    </tr>\n",
       "    <tr>\n",
       "      <th>9</th>\n",
       "      <td>9</td>\n",
       "      <td>O MPF pedirá o aumento da pena de Palocci e do...</td>\n",
       "      <td>Alto</td>\n",
       "      <td>Corrupcao</td>\n",
       "    </tr>\n",
       "  </tbody>\n",
       "</table>\n",
       "</div>"
      ],
      "text/plain": [
       "   index                                            message   risk  \\\n",
       "0      0  Mas quem dirá se será pacto democrático ou lut...  Medio   \n",
       "1      1  Assinado pela presidente nacional do partido, ...  Medio   \n",
       "2      2  PolíticaO deputado federal Vicente Cândido (PT...   Alto   \n",
       "3      3  Trata-se do célebre caso do apartamento tríple...  Medio   \n",
       "4      4  Pesquisa divulgada na semana passada pelo site...  Baixo   \n",
       "5      5  Uma hipotética condenação de Lula teria como ú...  Medio   \n",
       "6      6  O que nós queremos é que não inviabilizem o no...  Medio   \n",
       "7      7  \"Eu estou quase falando: 'Moro, meu amigo Moro...   Alto   \n",
       "8      8  Repetiu que, \"se for necessário, será candidat...   Alto   \n",
       "9      9  O MPF pedirá o aumento da pena de Palocci e do...   Alto   \n",
       "\n",
       "            category  \n",
       "0       Manifestacao  \n",
       "1           Politica  \n",
       "2          Corrupcao  \n",
       "3  Processo-Juridico  \n",
       "4           Eleicoes  \n",
       "5           Politica  \n",
       "6       Manifestacao  \n",
       "7              Crime  \n",
       "8  Processo-Juridico  \n",
       "9          Corrupcao  "
      ]
     },
     "execution_count": 12,
     "metadata": {},
     "output_type": "execute_result"
    }
   ],
   "source": [
    "# examine the first 10 rows\n",
    "news.head(10)"
   ]
  },
  {
   "cell_type": "code",
   "execution_count": 13,
   "metadata": {
    "collapsed": true
   },
   "outputs": [],
   "source": [
    "# convert label to a numerical variable\n",
    "news['category'] = news.category.map({'Positiva':6, 'Corrupcao':2, 'Processo-Juridico':2, 'Crime':2, 'Economia':3, 'Manifestacao':1, 'Eleicoes':4, 'Dano-Ambiental':5, 'Politica':4})"
   ]
  },
  {
   "cell_type": "code",
   "execution_count": 14,
   "metadata": {
    "collapsed": false
   },
   "outputs": [
    {
     "data": {
      "text/html": [
       "<div>\n",
       "<table border=\"1\" class=\"dataframe\">\n",
       "  <thead>\n",
       "    <tr style=\"text-align: right;\">\n",
       "      <th></th>\n",
       "      <th>index</th>\n",
       "      <th>message</th>\n",
       "      <th>risk</th>\n",
       "      <th>category</th>\n",
       "    </tr>\n",
       "  </thead>\n",
       "  <tbody>\n",
       "    <tr>\n",
       "      <th>0</th>\n",
       "      <td>0</td>\n",
       "      <td>Mas quem dirá se será pacto democrático ou lut...</td>\n",
       "      <td>Medio</td>\n",
       "      <td>1</td>\n",
       "    </tr>\n",
       "    <tr>\n",
       "      <th>1</th>\n",
       "      <td>1</td>\n",
       "      <td>Assinado pela presidente nacional do partido, ...</td>\n",
       "      <td>Medio</td>\n",
       "      <td>4</td>\n",
       "    </tr>\n",
       "    <tr>\n",
       "      <th>2</th>\n",
       "      <td>2</td>\n",
       "      <td>PolíticaO deputado federal Vicente Cândido (PT...</td>\n",
       "      <td>Alto</td>\n",
       "      <td>2</td>\n",
       "    </tr>\n",
       "    <tr>\n",
       "      <th>3</th>\n",
       "      <td>3</td>\n",
       "      <td>Trata-se do célebre caso do apartamento tríple...</td>\n",
       "      <td>Medio</td>\n",
       "      <td>2</td>\n",
       "    </tr>\n",
       "    <tr>\n",
       "      <th>4</th>\n",
       "      <td>4</td>\n",
       "      <td>Pesquisa divulgada na semana passada pelo site...</td>\n",
       "      <td>Baixo</td>\n",
       "      <td>4</td>\n",
       "    </tr>\n",
       "    <tr>\n",
       "      <th>5</th>\n",
       "      <td>5</td>\n",
       "      <td>Uma hipotética condenação de Lula teria como ú...</td>\n",
       "      <td>Medio</td>\n",
       "      <td>4</td>\n",
       "    </tr>\n",
       "    <tr>\n",
       "      <th>6</th>\n",
       "      <td>6</td>\n",
       "      <td>O que nós queremos é que não inviabilizem o no...</td>\n",
       "      <td>Medio</td>\n",
       "      <td>1</td>\n",
       "    </tr>\n",
       "    <tr>\n",
       "      <th>7</th>\n",
       "      <td>7</td>\n",
       "      <td>\"Eu estou quase falando: 'Moro, meu amigo Moro...</td>\n",
       "      <td>Alto</td>\n",
       "      <td>2</td>\n",
       "    </tr>\n",
       "    <tr>\n",
       "      <th>8</th>\n",
       "      <td>8</td>\n",
       "      <td>Repetiu que, \"se for necessário, será candidat...</td>\n",
       "      <td>Alto</td>\n",
       "      <td>2</td>\n",
       "    </tr>\n",
       "    <tr>\n",
       "      <th>9</th>\n",
       "      <td>9</td>\n",
       "      <td>O MPF pedirá o aumento da pena de Palocci e do...</td>\n",
       "      <td>Alto</td>\n",
       "      <td>2</td>\n",
       "    </tr>\n",
       "  </tbody>\n",
       "</table>\n",
       "</div>"
      ],
      "text/plain": [
       "   index                                            message   risk  category\n",
       "0      0  Mas quem dirá se será pacto democrático ou lut...  Medio         1\n",
       "1      1  Assinado pela presidente nacional do partido, ...  Medio         4\n",
       "2      2  PolíticaO deputado federal Vicente Cândido (PT...   Alto         2\n",
       "3      3  Trata-se do célebre caso do apartamento tríple...  Medio         2\n",
       "4      4  Pesquisa divulgada na semana passada pelo site...  Baixo         4\n",
       "5      5  Uma hipotética condenação de Lula teria como ú...  Medio         4\n",
       "6      6  O que nós queremos é que não inviabilizem o no...  Medio         1\n",
       "7      7  \"Eu estou quase falando: 'Moro, meu amigo Moro...   Alto         2\n",
       "8      8  Repetiu que, \"se for necessário, será candidat...   Alto         2\n",
       "9      9  O MPF pedirá o aumento da pena de Palocci e do...   Alto         2"
      ]
     },
     "execution_count": 14,
     "metadata": {},
     "output_type": "execute_result"
    }
   ],
   "source": [
    "news.head(10)"
   ]
  },
  {
   "cell_type": "code",
   "execution_count": 15,
   "metadata": {
    "collapsed": false
   },
   "outputs": [
    {
     "name": "stdout",
     "output_type": "stream",
     "text": [
      "(434,)\n",
      "(434,)\n"
     ]
    }
   ],
   "source": [
    "# how to define X and y (from the NEWS data) for use with COUNTVECTORIZER\n",
    "X = news.message\n",
    "y = news.category\n",
    "print(X.shape)\n",
    "print(y.shape)"
   ]
  },
  {
   "cell_type": "code",
   "execution_count": 16,
   "metadata": {
    "collapsed": false
   },
   "outputs": [
    {
     "name": "stdout",
     "output_type": "stream",
     "text": [
      "(325,)\n",
      "(109,)\n",
      "(325,)\n",
      "(109,)\n"
     ]
    }
   ],
   "source": [
    "# split X and y into training and testing sets\n",
    "from sklearn.cross_validation import train_test_split\n",
    "X_train, X_test, y_train, y_test = train_test_split(X, y, random_state=3)\n",
    "print(X_train.shape)\n",
    "print(X_test.shape)\n",
    "print(y_train.shape)\n",
    "print(y_test.shape)"
   ]
  },
  {
   "cell_type": "code",
   "execution_count": 17,
   "metadata": {
    "collapsed": true
   },
   "outputs": [],
   "source": [
    "# import and instantiate CountVectorizer (with the default parameters)\n",
    "\n",
    "from sklearn.feature_extraction.text import CountVectorizer\n",
    "\n",
    "vect = CountVectorizer(min_df=2)"
   ]
  },
  {
   "cell_type": "code",
   "execution_count": 31,
   "metadata": {
    "collapsed": false
   },
   "outputs": [],
   "source": [
    "# equivalently: combine fit and transform into a single step\n",
    "\n",
    "vect.fit(X_train)\n",
    "from sklearn.externals import joblib\n",
    "joblib.dump(vect, \"cat_voc.cls\")\n",
    "X_train_dtm = vect.transform(X_train)\n",
    "\n",
    "# prepare test data\n",
    "\n",
    "X_test_dtm = vect.transform(X_test)"
   ]
  },
  {
   "cell_type": "markdown",
   "metadata": {},
   "source": [
    "## Machine Learning"
   ]
  },
  {
   "cell_type": "code",
   "execution_count": 19,
   "metadata": {
    "collapsed": true
   },
   "outputs": [],
   "source": [
    "from sklearn.naive_bayes import GaussianNB\n",
    "from sklearn.neighbors import KNeighborsClassifier\n",
    "from sklearn.ensemble import RandomForestClassifier\n",
    "from sklearn.tree import DecisionTreeClassifier\n",
    "from sklearn.model_selection import train_test_split\n",
    "from sklearn import metrics\n",
    "from sklearn import linear_model\n",
    "from sklearn.ensemble import GradientBoostingClassifier\n",
    "from sklearn.svm import LinearSVC\n",
    "from sklearn.calibration import calibration_curve\n",
    "from sklearn.linear_model import LogisticRegression\n",
    "from sklearn.linear_model import LogisticRegressionCV\n",
    "from sklearn.linear_model import OrthogonalMatchingPursuit"
   ]
  },
  {
   "cell_type": "markdown",
   "metadata": {},
   "source": [
    "## Gaussian"
   ]
  },
  {
   "cell_type": "code",
   "execution_count": 20,
   "metadata": {
    "collapsed": false
   },
   "outputs": [
    {
     "name": "stdout",
     "output_type": "stream",
     "text": [
      "CPU times: user 40 ms, sys: 8 ms, total: 48 ms\n",
      "Wall time: 45 ms\n"
     ]
    },
    {
     "data": {
      "text/plain": [
       "0.64220183486238536"
      ]
     },
     "execution_count": 20,
     "metadata": {},
     "output_type": "execute_result"
    }
   ],
   "source": [
    "gauss = GaussianNB()\n",
    "%time gauss.fit(X_train_dtm.toarray(), y_train)\n",
    "y_pred_gauss = gauss.predict(X_test_dtm.toarray())\n",
    "metrics.accuracy_score(y_test, y_pred_gauss)"
   ]
  },
  {
   "cell_type": "markdown",
   "metadata": {},
   "source": [
    "## KNeighborsClassifier"
   ]
  },
  {
   "cell_type": "code",
   "execution_count": 21,
   "metadata": {
    "collapsed": false
   },
   "outputs": [
    {
     "name": "stdout",
     "output_type": "stream",
     "text": [
      "CPU times: user 20 ms, sys: 0 ns, total: 20 ms\n",
      "Wall time: 16.8 ms\n"
     ]
    },
    {
     "data": {
      "text/plain": [
       "0.56880733944954132"
      ]
     },
     "execution_count": 21,
     "metadata": {},
     "output_type": "execute_result"
    }
   ],
   "source": [
    "KNC = KNeighborsClassifier(n_neighbors=9)\n",
    "%time KNC.fit(X_train_dtm.toarray(), y_train)\n",
    "y_pred_KNC = KNC.predict(X_test_dtm.toarray())\n",
    "metrics.accuracy_score(y_test, y_pred_KNC)"
   ]
  },
  {
   "cell_type": "markdown",
   "metadata": {},
   "source": [
    "## Random Forest"
   ]
  },
  {
   "cell_type": "code",
   "execution_count": 22,
   "metadata": {
    "collapsed": false
   },
   "outputs": [
    {
     "name": "stdout",
     "output_type": "stream",
     "text": [
      "CPU times: user 2.47 s, sys: 60 ms, total: 2.53 s\n",
      "Wall time: 1.6 s\n"
     ]
    },
    {
     "data": {
      "text/plain": [
       "0.69724770642201839"
      ]
     },
     "execution_count": 22,
     "metadata": {},
     "output_type": "execute_result"
    }
   ],
   "source": [
    "randForest = RandomForestClassifier(n_estimators=500, n_jobs=5)\n",
    "%time randForest.fit(X_train_dtm, y_train)\n",
    "y_pred_randForest = randForest.predict(X_test_dtm)\n",
    "metrics.accuracy_score(y_test, y_pred_randForest)"
   ]
  },
  {
   "cell_type": "markdown",
   "metadata": {},
   "source": [
    "## Decision Tree"
   ]
  },
  {
   "cell_type": "code",
   "execution_count": 23,
   "metadata": {
    "collapsed": false
   },
   "outputs": [
    {
     "name": "stdout",
     "output_type": "stream",
     "text": [
      "CPU times: user 64 ms, sys: 4 ms, total: 68 ms\n",
      "Wall time: 66.6 ms\n"
     ]
    },
    {
     "data": {
      "text/plain": [
       "0.54128440366972475"
      ]
     },
     "execution_count": 23,
     "metadata": {},
     "output_type": "execute_result"
    }
   ],
   "source": [
    "dt = DecisionTreeClassifier()\n",
    "%time dt.fit(X_train_dtm.toarray(), y_train)\n",
    "y_pred_dt = dt.predict(X_test_dtm.toarray())\n",
    "metrics.accuracy_score(y_test, y_pred_dt)"
   ]
  },
  {
   "cell_type": "markdown",
   "metadata": {},
   "source": [
    "## gxBoost"
   ]
  },
  {
   "cell_type": "code",
   "execution_count": 24,
   "metadata": {
    "collapsed": false
   },
   "outputs": [
    {
     "name": "stdout",
     "output_type": "stream",
     "text": [
      "CPU times: user 10.3 s, sys: 0 ns, total: 10.3 s\n",
      "Wall time: 10.3 s\n"
     ]
    },
    {
     "data": {
      "text/plain": [
       "0.61467889908256879"
      ]
     },
     "execution_count": 24,
     "metadata": {},
     "output_type": "execute_result"
    }
   ],
   "source": [
    "GBC = GradientBoostingClassifier()\n",
    "%time GBC.fit(X_train_dtm.toarray(), y_train)\n",
    "y_pred_GBC = GBC.predict(X_test_dtm.toarray())\n",
    "metrics.accuracy_score(y_test, y_pred_GBC)"
   ]
  },
  {
   "cell_type": "markdown",
   "metadata": {},
   "source": [
    "## Linear SVC"
   ]
  },
  {
   "cell_type": "code",
   "execution_count": 25,
   "metadata": {
    "collapsed": false
   },
   "outputs": [
    {
     "name": "stdout",
     "output_type": "stream",
     "text": [
      "CPU times: user 100 ms, sys: 0 ns, total: 100 ms\n",
      "Wall time: 97.8 ms\n"
     ]
    },
    {
     "data": {
      "text/plain": [
       "0.59633027522935778"
      ]
     },
     "execution_count": 25,
     "metadata": {},
     "output_type": "execute_result"
    }
   ],
   "source": [
    "svc = LinearSVC(C=0.9, max_iter=500)\n",
    "%time svc.fit(X_train_dtm.toarray(), y_train)\n",
    "y_pred_svc = svc.predict(X_test_dtm.toarray())\n",
    "metrics.accuracy_score(y_test, y_pred_svc)"
   ]
  },
  {
   "cell_type": "markdown",
   "metadata": {},
   "source": [
    "## SGD Classifier"
   ]
  },
  {
   "cell_type": "code",
   "execution_count": 26,
   "metadata": {
    "collapsed": false
   },
   "outputs": [
    {
     "data": {
      "text/plain": [
       "0.66055045871559637"
      ]
     },
     "execution_count": 26,
     "metadata": {},
     "output_type": "execute_result"
    }
   ],
   "source": [
    "clf = linear_model.SGDClassifier()\n",
    "clf.fit(X_train_dtm, y_train)\n",
    "y_pred_clf = clf.predict(X_test_dtm)\n",
    "metrics.accuracy_score(y_test, y_pred_clf)"
   ]
  },
  {
   "cell_type": "markdown",
   "metadata": {},
   "source": [
    "## Orthogonal Matching Pursuit"
   ]
  },
  {
   "cell_type": "code",
   "execution_count": 27,
   "metadata": {
    "collapsed": false
   },
   "outputs": [
    {
     "name": "stdout",
     "output_type": "stream",
     "text": [
      "CPU times: user 224 ms, sys: 0 ns, total: 224 ms\n",
      "Wall time: 112 ms\n"
     ]
    },
    {
     "data": {
      "text/plain": [
       "0.28440366972477066"
      ]
     },
     "execution_count": 27,
     "metadata": {},
     "output_type": "execute_result"
    }
   ],
   "source": [
    "ort = OrthogonalMatchingPursuit()\n",
    "%time ort.fit(X_train_dtm.toarray(), y_train)\n",
    "y_pred_ort = ort.predict(X_test_dtm.toarray())\n",
    "metrics.accuracy_score(y_test, y_pred_ort.round().clip(1,3))"
   ]
  },
  {
   "cell_type": "markdown",
   "metadata": {},
   "source": [
    "## Logistic Regression"
   ]
  },
  {
   "cell_type": "code",
   "execution_count": 28,
   "metadata": {
    "collapsed": false
   },
   "outputs": [
    {
     "name": "stdout",
     "output_type": "stream",
     "text": [
      "CPU times: user 52 ms, sys: 0 ns, total: 52 ms\n",
      "Wall time: 26.5 ms\n"
     ]
    },
    {
     "data": {
      "text/plain": [
       "0.65137614678899081"
      ]
     },
     "execution_count": 28,
     "metadata": {},
     "output_type": "execute_result"
    }
   ],
   "source": [
    "lr = LogisticRegression(C=0.23)\n",
    "lrCV = LogisticRegressionCV()\n",
    "%time lr.fit(X_train_dtm.toarray(), y_train)\n",
    "y_pred_lr = lr.predict(X_test_dtm.toarray())\n",
    "metrics.accuracy_score(y_test, y_pred_lr)\n",
    "#%time lrCV.fit(X_train_dtm.toarray(), y_train)\n",
    "#y_pred_lrCV = lrCV.predict(X_test_dtm.toarray())\n",
    "#metrics.accuracy_score(y_test, y_pred_lrCV)"
   ]
  },
  {
   "cell_type": "code",
   "execution_count": 29,
   "metadata": {
    "collapsed": false
   },
   "outputs": [
    {
     "data": {
      "text/plain": [
       "['category_classifier.cls']"
      ]
     },
     "execution_count": 29,
     "metadata": {},
     "output_type": "execute_result"
    }
   ],
   "source": [
    "from sklearn.externals import joblib\n",
    "joblib.dump(randForest, \"category_classifier.cls\")"
   ]
  }
 ],
 "metadata": {
  "kernelspec": {
   "display_name": "Python 2",
   "language": "python",
   "name": "python2"
  },
  "language_info": {
   "codemirror_mode": {
    "name": "ipython",
    "version": 2
   },
   "file_extension": ".py",
   "mimetype": "text/x-python",
   "name": "python",
   "nbconvert_exporter": "python",
   "pygments_lexer": "ipython2",
   "version": "2.7.13"
  }
 },
 "nbformat": 4,
 "nbformat_minor": 2
}
