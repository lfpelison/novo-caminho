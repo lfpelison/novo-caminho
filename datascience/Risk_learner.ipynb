{
 "cells": [
  {
   "cell_type": "code",
   "execution_count": 22,
   "metadata": {
    "collapsed": true
   },
   "outputs": [],
   "source": [
    "import pandas as pd\n",
    "import numpy as np\n"
   ]
  },
  {
   "cell_type": "code",
   "execution_count": 23,
   "metadata": {
    "collapsed": false
   },
   "outputs": [],
   "source": [
    "# read file into pandas using a relative path\n",
    "path = 'data/noticias.csv'\n",
    "news = pd.read_csv(path, delimiter=' ', quotechar='|', names=['index', 'message', 'risk', 'category'])"
   ]
  },
  {
   "cell_type": "code",
   "execution_count": 24,
   "metadata": {
    "collapsed": false
   },
   "outputs": [
    {
     "data": {
      "text/html": [
       "<div>\n",
       "<table border=\"1\" class=\"dataframe\">\n",
       "  <thead>\n",
       "    <tr style=\"text-align: right;\">\n",
       "      <th></th>\n",
       "      <th>index</th>\n",
       "      <th>message</th>\n",
       "      <th>risk</th>\n",
       "      <th>category</th>\n",
       "    </tr>\n",
       "  </thead>\n",
       "  <tbody>\n",
       "    <tr>\n",
       "      <th>0</th>\n",
       "      <td>0</td>\n",
       "      <td>Mas quem dirá se será pacto democrático ou lut...</td>\n",
       "      <td>Medio</td>\n",
       "      <td>Manifestacao</td>\n",
       "    </tr>\n",
       "    <tr>\n",
       "      <th>1</th>\n",
       "      <td>1</td>\n",
       "      <td>Assinado pela presidente nacional do partido, ...</td>\n",
       "      <td>Medio</td>\n",
       "      <td>Politica</td>\n",
       "    </tr>\n",
       "    <tr>\n",
       "      <th>2</th>\n",
       "      <td>2</td>\n",
       "      <td>PolíticaO deputado federal Vicente Cândido (PT...</td>\n",
       "      <td>Alto</td>\n",
       "      <td>Corrupcao</td>\n",
       "    </tr>\n",
       "    <tr>\n",
       "      <th>3</th>\n",
       "      <td>3</td>\n",
       "      <td>Trata-se do célebre caso do apartamento tríple...</td>\n",
       "      <td>Medio</td>\n",
       "      <td>Processo-Juridico</td>\n",
       "    </tr>\n",
       "    <tr>\n",
       "      <th>4</th>\n",
       "      <td>4</td>\n",
       "      <td>Pesquisa divulgada na semana passada pelo site...</td>\n",
       "      <td>Baixo</td>\n",
       "      <td>Eleicoes</td>\n",
       "    </tr>\n",
       "    <tr>\n",
       "      <th>5</th>\n",
       "      <td>5</td>\n",
       "      <td>Uma hipotética condenação de Lula teria como ú...</td>\n",
       "      <td>Medio</td>\n",
       "      <td>Politica</td>\n",
       "    </tr>\n",
       "    <tr>\n",
       "      <th>6</th>\n",
       "      <td>6</td>\n",
       "      <td>O que nós queremos é que não inviabilizem o no...</td>\n",
       "      <td>Medio</td>\n",
       "      <td>Manifestacao</td>\n",
       "    </tr>\n",
       "    <tr>\n",
       "      <th>7</th>\n",
       "      <td>7</td>\n",
       "      <td>\"Eu estou quase falando: 'Moro, meu amigo Moro...</td>\n",
       "      <td>Alto</td>\n",
       "      <td>Crime</td>\n",
       "    </tr>\n",
       "    <tr>\n",
       "      <th>8</th>\n",
       "      <td>8</td>\n",
       "      <td>Repetiu que, \"se for necessário, será candidat...</td>\n",
       "      <td>Alto</td>\n",
       "      <td>Processo-Juridico</td>\n",
       "    </tr>\n",
       "    <tr>\n",
       "      <th>9</th>\n",
       "      <td>9</td>\n",
       "      <td>O MPF pedirá o aumento da pena de Palocci e do...</td>\n",
       "      <td>Alto</td>\n",
       "      <td>Corrupcao</td>\n",
       "    </tr>\n",
       "  </tbody>\n",
       "</table>\n",
       "</div>"
      ],
      "text/plain": [
       "   index                                            message   risk  \\\n",
       "0      0  Mas quem dirá se será pacto democrático ou lut...  Medio   \n",
       "1      1  Assinado pela presidente nacional do partido, ...  Medio   \n",
       "2      2  PolíticaO deputado federal Vicente Cândido (PT...   Alto   \n",
       "3      3  Trata-se do célebre caso do apartamento tríple...  Medio   \n",
       "4      4  Pesquisa divulgada na semana passada pelo site...  Baixo   \n",
       "5      5  Uma hipotética condenação de Lula teria como ú...  Medio   \n",
       "6      6  O que nós queremos é que não inviabilizem o no...  Medio   \n",
       "7      7  \"Eu estou quase falando: 'Moro, meu amigo Moro...   Alto   \n",
       "8      8  Repetiu que, \"se for necessário, será candidat...   Alto   \n",
       "9      9  O MPF pedirá o aumento da pena de Palocci e do...   Alto   \n",
       "\n",
       "            category  \n",
       "0       Manifestacao  \n",
       "1           Politica  \n",
       "2          Corrupcao  \n",
       "3  Processo-Juridico  \n",
       "4           Eleicoes  \n",
       "5           Politica  \n",
       "6       Manifestacao  \n",
       "7              Crime  \n",
       "8  Processo-Juridico  \n",
       "9          Corrupcao  "
      ]
     },
     "execution_count": 24,
     "metadata": {},
     "output_type": "execute_result"
    }
   ],
   "source": [
    "# examine the first 10 rows\n",
    "news.head(10)"
   ]
  },
  {
   "cell_type": "code",
   "execution_count": 25,
   "metadata": {
    "collapsed": true
   },
   "outputs": [],
   "source": [
    "# convert label to a numerical variable\n",
    "news['risk'] = news.risk.map({'Baixo':1, 'Medio':2, 'Alto':3})"
   ]
  },
  {
   "cell_type": "code",
   "execution_count": 26,
   "metadata": {
    "collapsed": false
   },
   "outputs": [
    {
     "data": {
      "text/html": [
       "<div>\n",
       "<table border=\"1\" class=\"dataframe\">\n",
       "  <thead>\n",
       "    <tr style=\"text-align: right;\">\n",
       "      <th></th>\n",
       "      <th>index</th>\n",
       "      <th>message</th>\n",
       "      <th>risk</th>\n",
       "      <th>category</th>\n",
       "    </tr>\n",
       "  </thead>\n",
       "  <tbody>\n",
       "    <tr>\n",
       "      <th>0</th>\n",
       "      <td>0</td>\n",
       "      <td>Mas quem dirá se será pacto democrático ou lut...</td>\n",
       "      <td>2</td>\n",
       "      <td>Manifestacao</td>\n",
       "    </tr>\n",
       "    <tr>\n",
       "      <th>1</th>\n",
       "      <td>1</td>\n",
       "      <td>Assinado pela presidente nacional do partido, ...</td>\n",
       "      <td>2</td>\n",
       "      <td>Politica</td>\n",
       "    </tr>\n",
       "    <tr>\n",
       "      <th>2</th>\n",
       "      <td>2</td>\n",
       "      <td>PolíticaO deputado federal Vicente Cândido (PT...</td>\n",
       "      <td>3</td>\n",
       "      <td>Corrupcao</td>\n",
       "    </tr>\n",
       "    <tr>\n",
       "      <th>3</th>\n",
       "      <td>3</td>\n",
       "      <td>Trata-se do célebre caso do apartamento tríple...</td>\n",
       "      <td>2</td>\n",
       "      <td>Processo-Juridico</td>\n",
       "    </tr>\n",
       "    <tr>\n",
       "      <th>4</th>\n",
       "      <td>4</td>\n",
       "      <td>Pesquisa divulgada na semana passada pelo site...</td>\n",
       "      <td>1</td>\n",
       "      <td>Eleicoes</td>\n",
       "    </tr>\n",
       "  </tbody>\n",
       "</table>\n",
       "</div>"
      ],
      "text/plain": [
       "   index                                            message  risk  \\\n",
       "0      0  Mas quem dirá se será pacto democrático ou lut...     2   \n",
       "1      1  Assinado pela presidente nacional do partido, ...     2   \n",
       "2      2  PolíticaO deputado federal Vicente Cândido (PT...     3   \n",
       "3      3  Trata-se do célebre caso do apartamento tríple...     2   \n",
       "4      4  Pesquisa divulgada na semana passada pelo site...     1   \n",
       "\n",
       "            category  \n",
       "0       Manifestacao  \n",
       "1           Politica  \n",
       "2          Corrupcao  \n",
       "3  Processo-Juridico  \n",
       "4           Eleicoes  "
      ]
     },
     "execution_count": 26,
     "metadata": {},
     "output_type": "execute_result"
    }
   ],
   "source": [
    "news.head()"
   ]
  },
  {
   "cell_type": "markdown",
   "metadata": {},
   "source": [
    "## Separate train and test data "
   ]
  },
  {
   "cell_type": "code",
   "execution_count": 27,
   "metadata": {
    "collapsed": false
   },
   "outputs": [
    {
     "name": "stdout",
     "output_type": "stream",
     "text": [
      "(434,)\n",
      "(434,)\n"
     ]
    }
   ],
   "source": [
    "# how to define X and y (from the NEWS data) for use with COUNTVECTORIZER\n",
    "X = news.message\n",
    "y = news.risk\n",
    "print(X.shape)\n",
    "print(y.shape)"
   ]
  },
  {
   "cell_type": "code",
   "execution_count": 28,
   "metadata": {
    "collapsed": false
   },
   "outputs": [
    {
     "name": "stdout",
     "output_type": "stream",
     "text": [
      "(325,)\n",
      "(109,)\n",
      "(325,)\n",
      "(109,)\n"
     ]
    }
   ],
   "source": [
    "# split X and y into training and testing sets\n",
    "from sklearn.cross_validation import train_test_split\n",
    "X_train, X_test, y_train, y_test = train_test_split(X, y, random_state=1)\n",
    "print(X_train.shape)\n",
    "print(X_test.shape)\n",
    "print(y_train.shape)\n",
    "print(y_test.shape)"
   ]
  },
  {
   "cell_type": "markdown",
   "metadata": {},
   "source": [
    "##  Init Vector"
   ]
  },
  {
   "cell_type": "code",
   "execution_count": 44,
   "metadata": {
    "collapsed": false
   },
   "outputs": [],
   "source": [
    "# import and instantiate CountVectorizer (with the default parameters)\n",
    "from sklearn.feature_extraction.text import CountVectorizer\n",
    "from sklearn.feature_extraction.text import TfidfVectorizer\n",
    "from sklearn.externals import joblib\n",
    "\n",
    "vect = CountVectorizer(min_df=2)\n",
    "\n",
    "vectorizer = TfidfVectorizer(max_features=2500,\n",
    "                                 min_df=2, use_idf=True)\n"
   ]
  },
  {
   "cell_type": "code",
   "execution_count": 45,
   "metadata": {
    "collapsed": false
   },
   "outputs": [],
   "source": [
    "# equivalently: combine fit and transform into a single step\n",
    "\n",
    "vect.fit(X_train)\n",
    "from sklearn.externals import joblib\n",
    "joblib.dump(vect, \"risk_voc.cls\")\n",
    "X_train_dtm = vect.transform(X_train)\n",
    "\n",
    "# prepare test data\n",
    "\n",
    "X_test_dtm = vect.transform(X_test)"
   ]
  },
  {
   "cell_type": "markdown",
   "metadata": {},
   "source": [
    "## Machine Learning Algorithms "
   ]
  },
  {
   "cell_type": "code",
   "execution_count": 31,
   "metadata": {
    "collapsed": true
   },
   "outputs": [],
   "source": [
    "from sklearn.naive_bayes import GaussianNB\n",
    "from sklearn.neighbors import KNeighborsClassifier\n",
    "from sklearn.ensemble import RandomForestClassifier\n",
    "from sklearn.tree import DecisionTreeClassifier\n",
    "from sklearn.model_selection import train_test_split\n",
    "from sklearn import metrics\n",
    "from sklearn import linear_model\n",
    "from sklearn.ensemble import GradientBoostingClassifier\n",
    "from sklearn.svm import LinearSVC\n",
    "from sklearn.calibration import calibration_curve\n",
    "from sklearn.linear_model import LogisticRegression\n",
    "from sklearn.linear_model import LogisticRegressionCV\n",
    "from sklearn.linear_model import OrthogonalMatchingPursuit"
   ]
  },
  {
   "cell_type": "markdown",
   "metadata": {},
   "source": [
    "## Gaussian"
   ]
  },
  {
   "cell_type": "code",
   "execution_count": 32,
   "metadata": {
    "collapsed": false
   },
   "outputs": [
    {
     "name": "stdout",
     "output_type": "stream",
     "text": [
      "CPU times: user 32 ms, sys: 0 ns, total: 32 ms\n",
      "Wall time: 33.6 ms\n"
     ]
    },
    {
     "data": {
      "text/plain": [
       "0.65137614678899081"
      ]
     },
     "execution_count": 32,
     "metadata": {},
     "output_type": "execute_result"
    }
   ],
   "source": [
    "gauss = GaussianNB()\n",
    "%time gauss.fit(X_train_dtm.toarray(), y_train)\n",
    "y_pred_gauss = gauss.predict(X_test_dtm.toarray())\n",
    "metrics.accuracy_score(y_test, y_pred_gauss)"
   ]
  },
  {
   "cell_type": "markdown",
   "metadata": {},
   "source": [
    "## KNeghborsClassifier"
   ]
  },
  {
   "cell_type": "code",
   "execution_count": 33,
   "metadata": {
    "collapsed": false
   },
   "outputs": [
    {
     "name": "stdout",
     "output_type": "stream",
     "text": [
      "CPU times: user 16 ms, sys: 0 ns, total: 16 ms\n",
      "Wall time: 16.6 ms\n"
     ]
    },
    {
     "data": {
      "text/plain": [
       "0.55045871559633031"
      ]
     },
     "execution_count": 33,
     "metadata": {},
     "output_type": "execute_result"
    }
   ],
   "source": [
    "KNC = KNeighborsClassifier(n_neighbors=100)\n",
    "%time KNC.fit(X_train_dtm.toarray(), y_train)\n",
    "y_pred_KNC = KNC.predict(X_test_dtm.toarray())\n",
    "metrics.accuracy_score(y_test, y_pred_KNC)"
   ]
  },
  {
   "cell_type": "markdown",
   "metadata": {},
   "source": [
    "## Random Forest"
   ]
  },
  {
   "cell_type": "code",
   "execution_count": 34,
   "metadata": {
    "collapsed": false
   },
   "outputs": [
    {
     "name": "stdout",
     "output_type": "stream",
     "text": [
      "CPU times: user 500 ms, sys: 84 ms, total: 584 ms\n",
      "Wall time: 493 ms\n"
     ]
    },
    {
     "data": {
      "text/plain": [
       "0.66972477064220182"
      ]
     },
     "execution_count": 34,
     "metadata": {},
     "output_type": "execute_result"
    }
   ],
   "source": [
    "randForest = RandomForestClassifier(n_estimators=87, n_jobs=300)\n",
    "%time randForest.fit(X_train_dtm, y_train)\n",
    "y_pred_randForest = randForest.predict(X_test_dtm)\n",
    "metrics.accuracy_score(y_test, y_pred_randForest)"
   ]
  },
  {
   "cell_type": "markdown",
   "metadata": {},
   "source": [
    "## Decision Tree"
   ]
  },
  {
   "cell_type": "code",
   "execution_count": 35,
   "metadata": {
    "collapsed": false
   },
   "outputs": [
    {
     "name": "stdout",
     "output_type": "stream",
     "text": [
      "CPU times: user 44 ms, sys: 4 ms, total: 48 ms\n",
      "Wall time: 50.7 ms\n"
     ]
    },
    {
     "data": {
      "text/plain": [
       "0.55045871559633031"
      ]
     },
     "execution_count": 35,
     "metadata": {},
     "output_type": "execute_result"
    }
   ],
   "source": [
    "dt = DecisionTreeClassifier()\n",
    "%time dt.fit(X_train_dtm.toarray(), y_train)\n",
    "y_pred_dt = dt.predict(X_test_dtm.toarray())\n",
    "metrics.accuracy_score(y_test, y_pred_dt)"
   ]
  },
  {
   "cell_type": "markdown",
   "metadata": {},
   "source": [
    "## Gradient Boosting Classifier"
   ]
  },
  {
   "cell_type": "code",
   "execution_count": 36,
   "metadata": {
    "collapsed": false
   },
   "outputs": [
    {
     "name": "stdout",
     "output_type": "stream",
     "text": [
      "CPU times: user 4.73 s, sys: 0 ns, total: 4.73 s\n",
      "Wall time: 4.73 s\n"
     ]
    },
    {
     "data": {
      "text/plain": [
       "0.68807339449541283"
      ]
     },
     "execution_count": 36,
     "metadata": {},
     "output_type": "execute_result"
    }
   ],
   "source": [
    "GBC = GradientBoostingClassifier()\n",
    "%time GBC.fit(X_train_dtm.toarray(), y_train)\n",
    "y_pred_GBC = GBC.predict(X_test_dtm.toarray())\n",
    "metrics.accuracy_score(y_test, y_pred_GBC)"
   ]
  },
  {
   "cell_type": "markdown",
   "metadata": {},
   "source": [
    "## Linear SVC"
   ]
  },
  {
   "cell_type": "code",
   "execution_count": 37,
   "metadata": {
    "collapsed": false
   },
   "outputs": [
    {
     "name": "stdout",
     "output_type": "stream",
     "text": [
      "CPU times: user 116 ms, sys: 0 ns, total: 116 ms\n",
      "Wall time: 115 ms\n"
     ]
    },
    {
     "data": {
      "text/plain": [
       "0.74311926605504586"
      ]
     },
     "execution_count": 37,
     "metadata": {},
     "output_type": "execute_result"
    }
   ],
   "source": [
    "svc = LinearSVC(C=5e-1)\n",
    "%time svc.fit(X_train_dtm.toarray(), y_train)\n",
    "y_pred_svc = svc.predict(X_test_dtm.toarray())\n",
    "metrics.accuracy_score(y_test, y_pred_svc)"
   ]
  },
  {
   "cell_type": "markdown",
   "metadata": {},
   "source": [
    "## SGD Classifier"
   ]
  },
  {
   "cell_type": "code",
   "execution_count": 38,
   "metadata": {
    "collapsed": false
   },
   "outputs": [
    {
     "data": {
      "text/plain": [
       "0.69724770642201839"
      ]
     },
     "execution_count": 38,
     "metadata": {},
     "output_type": "execute_result"
    }
   ],
   "source": [
    "clf = linear_model.SGDClassifier()\n",
    "clf.fit(X_train_dtm, y_train)\n",
    "y_pred_clf = clf.predict(X_test_dtm)\n",
    "metrics.accuracy_score(y_test, y_pred_clf)"
   ]
  },
  {
   "cell_type": "markdown",
   "metadata": {},
   "source": [
    "## Orthogonal Matching Pursuit"
   ]
  },
  {
   "cell_type": "code",
   "execution_count": 39,
   "metadata": {
    "collapsed": false
   },
   "outputs": [
    {
     "name": "stdout",
     "output_type": "stream",
     "text": [
      "CPU times: user 248 ms, sys: 0 ns, total: 248 ms\n",
      "Wall time: 124 ms\n"
     ]
    },
    {
     "data": {
      "text/plain": [
       "0.55045871559633031"
      ]
     },
     "execution_count": 39,
     "metadata": {},
     "output_type": "execute_result"
    }
   ],
   "source": [
    "ort = OrthogonalMatchingPursuit()\n",
    "%time ort.fit(X_train_dtm.toarray(), y_train)\n",
    "y_pred_ort = ort.predict(X_test_dtm.toarray())\n",
    "metrics.accuracy_score(y_test, y_pred_ort.round().clip(1,3))"
   ]
  },
  {
   "cell_type": "markdown",
   "metadata": {},
   "source": [
    "## LogisticRegression"
   ]
  },
  {
   "cell_type": "code",
   "execution_count": 40,
   "metadata": {
    "collapsed": false
   },
   "outputs": [
    {
     "name": "stdout",
     "output_type": "stream",
     "text": [
      "CPU times: user 56 ms, sys: 4 ms, total: 60 ms\n",
      "Wall time: 30.8 ms\n"
     ]
    },
    {
     "data": {
      "text/plain": [
       "0.76146788990825687"
      ]
     },
     "execution_count": 40,
     "metadata": {},
     "output_type": "execute_result"
    }
   ],
   "source": [
    "lr = LogisticRegression(C=20)\n",
    "lrCV = LogisticRegressionCV()\n",
    "%time lr.fit(X_train_dtm.toarray(), y_train)\n",
    "y_pred_lr = lr.predict(X_test_dtm.toarray())\n",
    "metrics.accuracy_score(y_test, y_pred_lr)\n",
    "#%time lrCV.fit(X_train_dtm.toarray(), y_train)\n",
    "#y_pred_lrCV = lrCV.predict(X_test_dtm.toarray())\n",
    "#metrics.accuracy_score(y_test, y_pred_lrCV)"
   ]
  },
  {
   "cell_type": "code",
   "execution_count": 41,
   "metadata": {
    "collapsed": false
   },
   "outputs": [
    {
     "data": {
      "text/plain": [
       "['risk_classifier.cls']"
      ]
     },
     "execution_count": 41,
     "metadata": {},
     "output_type": "execute_result"
    }
   ],
   "source": [
    "from sklearn.externals import joblib\n",
    "joblib.dump(lr, \"risk_classifier.cls\")"
   ]
  },
  {
   "cell_type": "code",
   "execution_count": 42,
   "metadata": {
    "collapsed": false
   },
   "outputs": [
    {
     "data": {
      "text/plain": [
       "0.76146788990825687"
      ]
     },
     "execution_count": 42,
     "metadata": {},
     "output_type": "execute_result"
    }
   ],
   "source": [
    "model = joblib.load(\"risk_classifier.cls\")\n",
    "y_pred_model = model.predict(X_test_dtm.toarray())\n",
    "metrics.accuracy_score(y_test, y_pred_model)"
   ]
  }
 ],
 "metadata": {
  "kernelspec": {
   "display_name": "Python 2",
   "language": "python",
   "name": "python2"
  },
  "language_info": {
   "codemirror_mode": {
    "name": "ipython",
    "version": 2
   },
   "file_extension": ".py",
   "mimetype": "text/x-python",
   "name": "python",
   "nbconvert_exporter": "python",
   "pygments_lexer": "ipython2",
   "version": "2.7.13"
  }
 },
 "nbformat": 4,
 "nbformat_minor": 2
}
